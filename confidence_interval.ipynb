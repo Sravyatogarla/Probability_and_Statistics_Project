{
 "cells": [
  {
   "cell_type": "markdown",
   "id": "3ca435c7-d54e-4ed5-9900-24ec060d54be",
   "metadata": {},
   "source": [
    "## Problem Statement - 1"
   ]
  },
  {
   "cell_type": "markdown",
   "id": "4b8d792e-65c2-47e2-9fcf-30abdfd7a6bd",
   "metadata": {},
   "source": [
    "# Confidence Interval Calculation"
   ]
  },
  {
   "cell_type": "markdown",
   "id": "4311eeaa-792c-4503-8939-86173bc9bcbd",
   "metadata": {},
   "source": [
    "~ In a survey conducted by a non-banking financial company, a sample of 200 customers yielded that x of them were highly satisfied with the timely disbursal of their loans.\n",
    "\n",
    "Write a Python code to perform the following operations:\n",
    "\n",
    "1.Read an integer input that specifies the number of highly satisfied customers\n",
    "\n",
    "2.Calculate an approximate 90% confidence interval for the proportion of the loan customers who are highly satisfied with disbursal time\n",
    "\n",
    "•Find out the Margin of Error using scipy.stats.norm.ppf\n",
    "\n",
    "•Calculate and print the confidence interval values rounded up to five decimal places and separated by a space\n",
    "\n",
    "Note:\n",
    "\n",
    "•Margin of Error = Critical Value * Standard Error of Statistic\n",
    "•Confidence Interval = Sample Statistic ± Margin of Error\n",
    "\n",
    "Example: Let's say 172 out of 200 customers were highly satisfied.\n",
    "Sample Input: 172 \n",
    "The confidence interval should be printed as -\n",
    "Sample Output: 0.82856 0.89144 "
   ]
  },
  {
   "cell_type": "code",
   "execution_count": 1,
   "id": "3a9e900a-7858-4665-aae7-f8cbc9c4cdbc",
   "metadata": {},
   "outputs": [
    {
     "name": "stdin",
     "output_type": "stream",
     "text": [
      "Enter the number of highly satisfied customers 100\n"
     ]
    },
    {
     "name": "stdout",
     "output_type": "stream",
     "text": [
      "confidence interval: (0.44185,0.55815)\n"
     ]
    }
   ],
   "source": [
    "import scipy .stats as st\n",
    "from scipy.stats import norm\n",
    "\n",
    "#read the number of highly satisfied customers as input\n",
    "x = int(input(\"Enter the number of highly satisfied customers\"))\n",
    "\n",
    "#Total number of customers\n",
    "n = 200\n",
    "#calculate the sample proportion \n",
    "p_hat = x/n\n",
    "#calculate the standard error of the proportion \n",
    "se = (p_hat*(1- p_hat)/n)**0.5\n",
    "#find the critical value(z-score) for a 90% confidence interval\n",
    "alpha = 0.1 \n",
    "z_critical = norm.ppf(1-alpha/2)\n",
    "#Two-tailed test\n",
    "\n",
    "#calculate the number of error \n",
    "margin_of_error = z_critical * se\n",
    "\n",
    "#calculate the confidence interval\n",
    "lower_bound = p_hat - margin_of_error\n",
    "upper_bound = p_hat + margin_of_error\n",
    "\n",
    "#print the confidence interval rounded to five decimal places\n",
    "print(f\"confidence interval: ({lower_bound:.5f},{upper_bound:.5f})\")"
   ]
  },
  {
   "cell_type": "code",
   "execution_count": null,
   "id": "e2d3a62b-cc5c-4495-be4a-1cdc736b6b03",
   "metadata": {},
   "outputs": [],
   "source": []
  }
 ],
 "metadata": {
  "kernelspec": {
   "display_name": "Python 3 (ipykernel)",
   "language": "python",
   "name": "python3"
  },
  "language_info": {
   "codemirror_mode": {
    "name": "ipython",
    "version": 3
   },
   "file_extension": ".py",
   "mimetype": "text/x-python",
   "name": "python",
   "nbconvert_exporter": "python",
   "pygments_lexer": "ipython3",
   "version": "3.12.6"
  }
 },
 "nbformat": 4,
 "nbformat_minor": 5
}
