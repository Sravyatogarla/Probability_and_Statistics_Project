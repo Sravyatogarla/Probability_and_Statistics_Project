{
 "cells": [
  {
   "cell_type": "markdown",
   "id": "25e33240-64b5-4e98-84c3-ce0adea049bd",
   "metadata": {},
   "source": [
    "## Problem Statement- 3"
   ]
  },
  {
   "cell_type": "markdown",
   "id": "09144df0-9b1f-42ee-9843-0be818638327",
   "metadata": {},
   "source": [
    "# Kerala rainfall flood analysis"
   ]
  },
  {
   "cell_type": "markdown",
   "id": "f6e912d4-f460-44d2-9af2-59e540f990f3",
   "metadata": {},
   "source": [
    "~ Write a Python program to load the “kerala.csv” data into a DataFrame and perform the following tasks: \n",
    "\n",
    "1.Explore the DataFrame using info() and describe() functions\n",
    "\n",
    "2.June and July are the peak months of rainfall. Consider that if it rains more than 500mm, then chances of flood become more; create a Datarame with columns –“YEAR”,  “JUN_GT_500” (Contains a boolean value to show whether it rained more than 500 mm in the month of June) , “JUL_GT_500” (Contains a boolean value to show whether it rained more than 500 mm in the month of July), and “FLOODS” (Contains a boolean value to show whether it flooded that year)\n",
    "\n",
    "3.Calculate the probability of flood given it rained more than 500 mm in June (P(A|B))\n",
    "\n",
    "4.Calculate the probability of rain more than 500 mm in June, given it flooded that year (P(B|A))\n",
    "\n",
    "5.Probability of flood given it rained more than 500 mm in July\n",
    "\n",
    "6.Probability of rain more than 500 mm in July given it flooded that year (P(B|A))\n"
   ]
  },
  {
   "cell_type": "code",
   "execution_count": 1,
   "id": "57a8a311-3613-4250-8d09-c1b0401aeb00",
   "metadata": {},
   "outputs": [
    {
     "name": "stdout",
     "output_type": "stream",
     "text": [
      "    SUBDIVISION  YEAR   JAN   FEB   MAR    APR    MAY     JUN     JUL     AUG  \\\n",
      "0        KERALA  1901  28.7  44.7  51.6  160.0  174.7   824.6   743.0   357.5   \n",
      "1        KERALA  1902   6.7   2.6  57.3   83.9  134.5   390.9  1205.0   315.8   \n",
      "2        KERALA  1903   3.2  18.6   3.1   83.6  249.7   558.6  1022.5   420.2   \n",
      "3        KERALA  1904  23.7   3.0  32.2   71.5  235.7  1098.2   725.5   351.8   \n",
      "4        KERALA  1905   1.2  22.3   9.4  105.9  263.3   850.2   520.5   293.6   \n",
      "..          ...   ...   ...   ...   ...    ...    ...     ...     ...     ...   \n",
      "113      KERALA  2014   4.6  10.3  17.9   95.7  251.0   454.4   677.8   733.9   \n",
      "114      KERALA  2015   3.1   5.8  50.1  214.1  201.8   563.6   406.0   252.2   \n",
      "115      KERALA  2016   2.4   3.8  35.9  143.0  186.4   522.2   412.3   325.5   \n",
      "116     KERALA   2017   1.9   6.8   8.9   43.6  173.5   498.5   319.6   531.8   \n",
      "117      KERALA  2018  29.1  52.1  48.6  116.4  183.8   625.4  1048.5  1398.9   \n",
      "\n",
      "       SEP    OCT    NOV    DEC   ANNUAL RAINFALL FLOODS  \n",
      "0    197.7  266.9  350.8   48.4            3248.6    YES  \n",
      "1    491.6  358.4  158.3  121.5            3326.6    YES  \n",
      "2    341.8  354.1  157.0   59.0            3271.2    YES  \n",
      "3    222.7  328.1   33.9    3.3            3129.7    YES  \n",
      "4    217.2  383.5   74.4    0.2            2741.6     NO  \n",
      "..     ...    ...    ...    ...               ...    ...  \n",
      "113  298.8  355.5   99.5   47.2            3046.4    YES  \n",
      "114  292.9  308.1  223.6   79.4            2600.6     NO  \n",
      "115  173.2  225.9  125.4   23.6            2176.6     NO  \n",
      "116  209.5  192.4   92.5   38.1            2117.1     NO  \n",
      "117  423.6  356.1  125.4   65.1            4473.0    YES  \n",
      "\n",
      "[118 rows x 16 columns]\n"
     ]
    }
   ],
   "source": [
    "import pandas as pd\n",
    "#import the kerala.csv file\n",
    "data= pd.read_csv(\"Kerala.csv\")\n",
    "print(data)"
   ]
  },
  {
   "cell_type": "code",
   "execution_count": 2,
   "id": "3aca5178-56f0-42b2-b7b4-0bd601c6af90",
   "metadata": {},
   "outputs": [
    {
     "name": "stdout",
     "output_type": "stream",
     "text": [
      "    SUBDIVISION  YEAR   JAN   FEB   MAR    APR    MAY     JUN     JUL     AUG  \\\n",
      "0        KERALA  1901  28.7  44.7  51.6  160.0  174.7   824.6   743.0   357.5   \n",
      "1        KERALA  1902   6.7   2.6  57.3   83.9  134.5   390.9  1205.0   315.8   \n",
      "2        KERALA  1903   3.2  18.6   3.1   83.6  249.7   558.6  1022.5   420.2   \n",
      "3        KERALA  1904  23.7   3.0  32.2   71.5  235.7  1098.2   725.5   351.8   \n",
      "4        KERALA  1905   1.2  22.3   9.4  105.9  263.3   850.2   520.5   293.6   \n",
      "..          ...   ...   ...   ...   ...    ...    ...     ...     ...     ...   \n",
      "113      KERALA  2014   4.6  10.3  17.9   95.7  251.0   454.4   677.8   733.9   \n",
      "114      KERALA  2015   3.1   5.8  50.1  214.1  201.8   563.6   406.0   252.2   \n",
      "115      KERALA  2016   2.4   3.8  35.9  143.0  186.4   522.2   412.3   325.5   \n",
      "116     KERALA   2017   1.9   6.8   8.9   43.6  173.5   498.5   319.6   531.8   \n",
      "117      KERALA  2018  29.1  52.1  48.6  116.4  183.8   625.4  1048.5  1398.9   \n",
      "\n",
      "       SEP    OCT    NOV    DEC   ANNUAL RAINFALL FLOODS  \n",
      "0    197.7  266.9  350.8   48.4            3248.6    YES  \n",
      "1    491.6  358.4  158.3  121.5            3326.6    YES  \n",
      "2    341.8  354.1  157.0   59.0            3271.2    YES  \n",
      "3    222.7  328.1   33.9    3.3            3129.7    YES  \n",
      "4    217.2  383.5   74.4    0.2            2741.6     NO  \n",
      "..     ...    ...    ...    ...               ...    ...  \n",
      "113  298.8  355.5   99.5   47.2            3046.4    YES  \n",
      "114  292.9  308.1  223.6   79.4            2600.6     NO  \n",
      "115  173.2  225.9  125.4   23.6            2176.6     NO  \n",
      "116  209.5  192.4   92.5   38.1            2117.1     NO  \n",
      "117  423.6  356.1  125.4   65.1            4473.0    YES  \n",
      "\n",
      "[118 rows x 16 columns]\n"
     ]
    }
   ],
   "source": [
    "df1 = pd.DataFrame(data)\n",
    "print(df1)"
   ]
  },
  {
   "cell_type": "code",
   "execution_count": 3,
   "id": "e6d55074-372e-4c6a-8574-a32f975b9bb0",
   "metadata": {},
   "outputs": [
    {
     "data": {
      "text/html": [
       "<div>\n",
       "<style scoped>\n",
       "    .dataframe tbody tr th:only-of-type {\n",
       "        vertical-align: middle;\n",
       "    }\n",
       "\n",
       "    .dataframe tbody tr th {\n",
       "        vertical-align: top;\n",
       "    }\n",
       "\n",
       "    .dataframe thead th {\n",
       "        text-align: right;\n",
       "    }\n",
       "</style>\n",
       "<table border=\"1\" class=\"dataframe\">\n",
       "  <thead>\n",
       "    <tr style=\"text-align: right;\">\n",
       "      <th></th>\n",
       "      <th>SUBDIVISION</th>\n",
       "      <th>YEAR</th>\n",
       "      <th>JAN</th>\n",
       "      <th>FEB</th>\n",
       "      <th>MAR</th>\n",
       "      <th>APR</th>\n",
       "      <th>MAY</th>\n",
       "      <th>JUN</th>\n",
       "      <th>JUL</th>\n",
       "      <th>AUG</th>\n",
       "      <th>SEP</th>\n",
       "      <th>OCT</th>\n",
       "      <th>NOV</th>\n",
       "      <th>DEC</th>\n",
       "      <th>ANNUAL RAINFALL</th>\n",
       "      <th>FLOODS</th>\n",
       "    </tr>\n",
       "  </thead>\n",
       "  <tbody>\n",
       "    <tr>\n",
       "      <th>0</th>\n",
       "      <td>KERALA</td>\n",
       "      <td>1901</td>\n",
       "      <td>28.7</td>\n",
       "      <td>44.7</td>\n",
       "      <td>51.6</td>\n",
       "      <td>160.0</td>\n",
       "      <td>174.7</td>\n",
       "      <td>824.6</td>\n",
       "      <td>743.0</td>\n",
       "      <td>357.5</td>\n",
       "      <td>197.7</td>\n",
       "      <td>266.9</td>\n",
       "      <td>350.8</td>\n",
       "      <td>48.4</td>\n",
       "      <td>3248.6</td>\n",
       "      <td>YES</td>\n",
       "    </tr>\n",
       "    <tr>\n",
       "      <th>1</th>\n",
       "      <td>KERALA</td>\n",
       "      <td>1902</td>\n",
       "      <td>6.7</td>\n",
       "      <td>2.6</td>\n",
       "      <td>57.3</td>\n",
       "      <td>83.9</td>\n",
       "      <td>134.5</td>\n",
       "      <td>390.9</td>\n",
       "      <td>1205.0</td>\n",
       "      <td>315.8</td>\n",
       "      <td>491.6</td>\n",
       "      <td>358.4</td>\n",
       "      <td>158.3</td>\n",
       "      <td>121.5</td>\n",
       "      <td>3326.6</td>\n",
       "      <td>YES</td>\n",
       "    </tr>\n",
       "    <tr>\n",
       "      <th>2</th>\n",
       "      <td>KERALA</td>\n",
       "      <td>1903</td>\n",
       "      <td>3.2</td>\n",
       "      <td>18.6</td>\n",
       "      <td>3.1</td>\n",
       "      <td>83.6</td>\n",
       "      <td>249.7</td>\n",
       "      <td>558.6</td>\n",
       "      <td>1022.5</td>\n",
       "      <td>420.2</td>\n",
       "      <td>341.8</td>\n",
       "      <td>354.1</td>\n",
       "      <td>157.0</td>\n",
       "      <td>59.0</td>\n",
       "      <td>3271.2</td>\n",
       "      <td>YES</td>\n",
       "    </tr>\n",
       "    <tr>\n",
       "      <th>3</th>\n",
       "      <td>KERALA</td>\n",
       "      <td>1904</td>\n",
       "      <td>23.7</td>\n",
       "      <td>3.0</td>\n",
       "      <td>32.2</td>\n",
       "      <td>71.5</td>\n",
       "      <td>235.7</td>\n",
       "      <td>1098.2</td>\n",
       "      <td>725.5</td>\n",
       "      <td>351.8</td>\n",
       "      <td>222.7</td>\n",
       "      <td>328.1</td>\n",
       "      <td>33.9</td>\n",
       "      <td>3.3</td>\n",
       "      <td>3129.7</td>\n",
       "      <td>YES</td>\n",
       "    </tr>\n",
       "    <tr>\n",
       "      <th>4</th>\n",
       "      <td>KERALA</td>\n",
       "      <td>1905</td>\n",
       "      <td>1.2</td>\n",
       "      <td>22.3</td>\n",
       "      <td>9.4</td>\n",
       "      <td>105.9</td>\n",
       "      <td>263.3</td>\n",
       "      <td>850.2</td>\n",
       "      <td>520.5</td>\n",
       "      <td>293.6</td>\n",
       "      <td>217.2</td>\n",
       "      <td>383.5</td>\n",
       "      <td>74.4</td>\n",
       "      <td>0.2</td>\n",
       "      <td>2741.6</td>\n",
       "      <td>NO</td>\n",
       "    </tr>\n",
       "  </tbody>\n",
       "</table>\n",
       "</div>"
      ],
      "text/plain": [
       "  SUBDIVISION  YEAR   JAN   FEB   MAR    APR    MAY     JUN     JUL    AUG  \\\n",
       "0      KERALA  1901  28.7  44.7  51.6  160.0  174.7   824.6   743.0  357.5   \n",
       "1      KERALA  1902   6.7   2.6  57.3   83.9  134.5   390.9  1205.0  315.8   \n",
       "2      KERALA  1903   3.2  18.6   3.1   83.6  249.7   558.6  1022.5  420.2   \n",
       "3      KERALA  1904  23.7   3.0  32.2   71.5  235.7  1098.2   725.5  351.8   \n",
       "4      KERALA  1905   1.2  22.3   9.4  105.9  263.3   850.2   520.5  293.6   \n",
       "\n",
       "     SEP    OCT    NOV    DEC   ANNUAL RAINFALL FLOODS  \n",
       "0  197.7  266.9  350.8   48.4            3248.6    YES  \n",
       "1  491.6  358.4  158.3  121.5            3326.6    YES  \n",
       "2  341.8  354.1  157.0   59.0            3271.2    YES  \n",
       "3  222.7  328.1   33.9    3.3            3129.7    YES  \n",
       "4  217.2  383.5   74.4    0.2            2741.6     NO  "
      ]
     },
     "execution_count": 3,
     "metadata": {},
     "output_type": "execute_result"
    }
   ],
   "source": [
    "df1.head()"
   ]
  },
  {
   "cell_type": "code",
   "execution_count": 4,
   "id": "3a7c6083-346f-4c63-bdf3-572d028d94dd",
   "metadata": {},
   "outputs": [
    {
     "name": "stdout",
     "output_type": "stream",
     "text": [
      "<class 'pandas.core.frame.DataFrame'>\n",
      "RangeIndex: 118 entries, 0 to 117\n",
      "Data columns (total 16 columns):\n",
      " #   Column            Non-Null Count  Dtype  \n",
      "---  ------            --------------  -----  \n",
      " 0   SUBDIVISION       118 non-null    object \n",
      " 1   YEAR              118 non-null    int64  \n",
      " 2   JAN               118 non-null    float64\n",
      " 3   FEB               118 non-null    float64\n",
      " 4   MAR               118 non-null    float64\n",
      " 5   APR               118 non-null    float64\n",
      " 6   MAY               118 non-null    float64\n",
      " 7   JUN               118 non-null    float64\n",
      " 8   JUL               118 non-null    float64\n",
      " 9   AUG               118 non-null    float64\n",
      " 10  SEP               118 non-null    float64\n",
      " 11  OCT               118 non-null    float64\n",
      " 12  NOV               118 non-null    float64\n",
      " 13  DEC               118 non-null    float64\n",
      " 14   ANNUAL RAINFALL  118 non-null    float64\n",
      " 15  FLOODS            118 non-null    object \n",
      "dtypes: float64(13), int64(1), object(2)\n",
      "memory usage: 14.9+ KB\n",
      "None\n"
     ]
    }
   ],
   "source": [
    "# Explore DataFrame\n",
    "print(df1.info())\n"
   ]
  },
  {
   "cell_type": "code",
   "execution_count": 5,
   "id": "10218ac6-c4e6-43a4-bf0b-2e915cd3a9de",
   "metadata": {},
   "outputs": [
    {
     "name": "stdout",
     "output_type": "stream",
     "text": [
      "              YEAR         JAN         FEB         MAR         APR  \\\n",
      "count   118.000000  118.000000  118.000000  118.000000  118.000000   \n",
      "mean   1959.500000   12.218644   15.633898   36.670339  110.330508   \n",
      "std      34.207699   15.473766   16.406290   30.063862   44.633452   \n",
      "min    1901.000000    0.000000    0.000000    0.100000   13.100000   \n",
      "25%    1930.250000    2.175000    4.700000   18.100000   74.350000   \n",
      "50%    1959.500000    5.800000    8.350000   28.400000  110.400000   \n",
      "75%    1988.750000   18.175000   21.400000   49.825000  136.450000   \n",
      "max    2018.000000   83.500000   79.000000  217.200000  238.000000   \n",
      "\n",
      "              MAY          JUN          JUL          AUG         SEP  \\\n",
      "count  118.000000   118.000000   118.000000   118.000000  118.000000   \n",
      "mean   228.644915   651.617797   698.220339   430.369492  246.207627   \n",
      "std    147.548778   186.181363   228.988966   181.980463  121.901131   \n",
      "min     53.400000   196.800000   167.500000   178.600000   41.300000   \n",
      "25%    125.050000   535.550000   533.200000   316.725000  155.425000   \n",
      "50%    184.600000   625.600000   691.650000   386.250000  223.550000   \n",
      "75%    264.875000   786.975000   832.425000   500.100000  334.500000   \n",
      "max    738.800000  1098.200000  1526.500000  1398.900000  526.700000   \n",
      "\n",
      "              OCT         NOV         DEC   ANNUAL RAINFALL  \n",
      "count  118.000000  118.000000  118.000000        118.000000  \n",
      "mean   293.207627  162.311017   40.009322       2925.405085  \n",
      "std     93.705253   83.200485   36.676330        452.169407  \n",
      "min     68.500000   31.500000    0.100000       2068.800000  \n",
      "25%    222.125000   93.025000   10.350000       2613.525000  \n",
      "50%    284.300000  152.450000   31.100000       2934.300000  \n",
      "75%    355.150000  218.325000   54.025000       3170.400000  \n",
      "max    567.900000  365.600000  202.300000       4473.000000  \n"
     ]
    }
   ],
   "source": [
    "print(df1.describe())"
   ]
  },
  {
   "cell_type": "code",
   "execution_count": 6,
   "id": "a7e911de-d63e-493d-8eeb-70babcc68132",
   "metadata": {},
   "outputs": [
    {
     "name": "stdout",
     "output_type": "stream",
     "text": [
      "   YEAR  JUN_GT_500  JUL_GT_500  FLOODS  COUNT\n",
      "0  1901           1           1       1      1\n",
      "1  1902           0           1       1      1\n",
      "2  1903           1           1       1      1\n",
      "3  1904           1           1       1      1\n",
      "4  1905           1           1       0      1\n"
     ]
    }
   ],
   "source": [
    "data2 = {\n",
    "    \"YEAR\": [1901, 1902, 1903, 1904, 1905],\n",
    "    \"JUN_GT_500\": [1, 0, 1, 1, 1],\n",
    "    \"JUL_GT_500\": [1, 1, 1, 1, 1],\n",
    "    \"FLOODS\": [1, 1, 1, 1, 0],\n",
    "    \"COUNT\":[1,1,1,1,1]\n",
    "}\n",
    "df2 = pd.DataFrame(data2)\n",
    "print(df2)"
   ]
  },
  {
   "cell_type": "code",
   "execution_count": 7,
   "id": "82441c7c-c1d3-4de7-9b7b-b648e2011c4a",
   "metadata": {},
   "outputs": [
    {
     "name": "stdout",
     "output_type": "stream",
     "text": [
      "Probability of flood given it rained more than 500 mm in June (P(A|B)):\n",
      "P(Flood|June): 0.75\n"
     ]
    }
   ],
   "source": [
    "P_A_given_B_june = df2[(df2[\"JUN_GT_500\"] == 1) & (df2[\"FLOODS\"] == 1)].shape[0] / df2[df2[\"JUN_GT_500\"] == 1].shape[0]\n",
    "\n",
    "# Print probabilities\n",
    "print(\"Probability of flood given it rained more than 500 mm in June (P(A|B)):\")\n",
    "print(\"P(Flood|June):\", P_A_given_B_june)\n"
   ]
  },
  {
   "cell_type": "code",
   "execution_count": 8,
   "id": "1af4193d-7f56-40a9-9f80-6c88b667049f",
   "metadata": {},
   "outputs": [
    {
     "name": "stdout",
     "output_type": "stream",
     "text": [
      "Probability of rain more than 500 mm in June given it flooded that year (P(B|A)):\n",
      "P(June|Flood): 0.75\n"
     ]
    }
   ],
   "source": [
    "P_B_given_A_june = df2[(df2[\"JUN_GT_500\"] == 1) & (df2[\"FLOODS\"] == 1)].shape[0] / df2[df2[\"FLOODS\"]==1].shape[0]\n",
    "print(\"Probability of rain more than 500 mm in June given it flooded that year (P(B|A)):\")\n",
    "print(\"P(June|Flood):\", P_B_given_A_june)"
   ]
  },
  {
   "cell_type": "code",
   "execution_count": 9,
   "id": "d4d07799-d5b8-45e3-a243-f94db5555115",
   "metadata": {},
   "outputs": [
    {
     "name": "stdout",
     "output_type": "stream",
     "text": [
      "Probability of flood given it rained more than 500 mm in July:\n",
      "P(Flood|July): 0.8\n"
     ]
    }
   ],
   "source": [
    "P_A_given_B_july = df2[(df2[\"JUL_GT_500\"] == 1) & (df2[\"FLOODS\"] == 1)].shape[0] / df2[df2[\"JUL_GT_500\"] == 1].shape[0]\n",
    "print(\"Probability of flood given it rained more than 500 mm in July:\")\n",
    "print(\"P(Flood|July):\", P_A_given_B_july)"
   ]
  },
  {
   "cell_type": "code",
   "execution_count": 10,
   "id": "a012ae6b-44d7-45d2-808a-f5690cd89e8b",
   "metadata": {},
   "outputs": [
    {
     "name": "stdout",
     "output_type": "stream",
     "text": [
      "Probability of rain more than 500 mm in July given it flooded that year (P(B|A)):\n",
      "P(July|Flood): 1.0\n"
     ]
    }
   ],
   "source": [
    "P_B_given_A_july = df2[(df2[\"JUL_GT_500\"] == 1) & (df2[\"FLOODS\"] == 1)].shape[0] / df2[df2[\"FLOODS\"] == 1].shape[0]\n",
    "print(\"Probability of rain more than 500 mm in July given it flooded that year (P(B|A)):\")\n",
    "print(\"P(July|Flood):\", P_B_given_A_july)"
   ]
  },
  {
   "cell_type": "code",
   "execution_count": null,
   "id": "69e9b0cc-12c0-47cb-84ac-a3dedf14b38e",
   "metadata": {},
   "outputs": [],
   "source": []
  }
 ],
 "metadata": {
  "kernelspec": {
   "display_name": "Python 3 (ipykernel)",
   "language": "python",
   "name": "python3"
  },
  "language_info": {
   "codemirror_mode": {
    "name": "ipython",
    "version": 3
   },
   "file_extension": ".py",
   "mimetype": "text/x-python",
   "name": "python",
   "nbconvert_exporter": "python",
   "pygments_lexer": "ipython3",
   "version": "3.12.6"
  }
 },
 "nbformat": 4,
 "nbformat_minor": 5
}
