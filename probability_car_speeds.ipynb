{
 "cells": [
  {
   "cell_type": "markdown",
   "id": "55c182ea-6da1-4287-a86c-f09f50c3397c",
   "metadata": {},
   "source": [
    "## Problem Statement - 2"
   ]
  },
  {
   "cell_type": "markdown",
   "id": "723b5861-9a6b-4ab8-aba1-f7b09bc52c18",
   "metadata": {},
   "source": [
    "# Probaility Car Speeds"
   ]
  },
  {
   "cell_type": "markdown",
   "id": "74ce2814-f778-4197-82d2-54d108df320c",
   "metadata": {},
   "source": [
    "~ A radar unit is used to measure the speeds of cars on a motorway. The speeds are normally distributed with a mean of 75 km/hr and a standard deviation of 15 km/hr.\n",
    "\n",
    "Write a Python code to perform the following operations:\n",
    "\n",
    "1.Find the probability that a car picked at random is traveling at more than X km/hr\n",
    "\n",
    "•Take the speed X as an input\n",
    "\n",
    "•Printthe probability value rounded up to four decimal places\n",
    "Hint:\n",
    "\n",
    "Use Normal Distribution."
   ]
  },
  {
   "cell_type": "code",
   "execution_count": 2,
   "id": "ccf15190-b17f-4069-8b22-dd32a1da00d9",
   "metadata": {},
   "outputs": [
    {
     "name": "stdin",
     "output_type": "stream",
     "text": [
      "Enter speed X in km/hr:  100\n"
     ]
    },
    {
     "name": "stdout",
     "output_type": "stream",
     "text": [
      "The probability that a car is traveling at more than 100.0 km/hr is: 0.0478\n"
     ]
    }
   ],
   "source": [
    "import numpy as np\n",
    "from scipy.stats import norm\n",
    "\n",
    "# Given parameters\n",
    "mean_speed = 75  # Mean speed in km/hr\n",
    "std_dev = 15     # Standard deviation in km/hr\n",
    "\n",
    "# Function to calculate probability\n",
    "def calculate_probability(X):\n",
    "    # Calculate the cumulative distribution function (CDF)\n",
    "    cdf_value = norm.cdf(X, mean_speed, std_dev)\n",
    "    # Calculate probability of traveling more than X km/hr\n",
    "    probability = 1 - cdf_value\n",
    "    return round(probability, 4)\n",
    "\n",
    "# Input from user\n",
    "X = float(input(\"Enter speed X in km/hr: \"))\n",
    "\n",
    "# Calculate and print probability\n",
    "prob = calculate_probability(X)\n",
    "print(f\"The probability that a car is traveling at more than {X} km/hr is: {prob}\")\n"
   ]
  },
  {
   "cell_type": "code",
   "execution_count": null,
   "id": "3faf8be6-25b7-4f78-8a49-4e197779acee",
   "metadata": {},
   "outputs": [],
   "source": []
  }
 ],
 "metadata": {
  "kernelspec": {
   "display_name": "Python 3 (ipykernel)",
   "language": "python",
   "name": "python3"
  },
  "language_info": {
   "codemirror_mode": {
    "name": "ipython",
    "version": 3
   },
   "file_extension": ".py",
   "mimetype": "text/x-python",
   "name": "python",
   "nbconvert_exporter": "python",
   "pygments_lexer": "ipython3",
   "version": "3.12.6"
  }
 },
 "nbformat": 4,
 "nbformat_minor": 5
}
